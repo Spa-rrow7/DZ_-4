{
 "cells": [
  {
   "cell_type": "code",
   "execution_count": 2,
   "id": "dee5312d-c6cb-4543-a368-7bc7b0eb310e",
   "metadata": {},
   "outputs": [],
   "source": [
    "from pyspark.sql import SparkSession"
   ]
  },
  {
   "cell_type": "code",
   "execution_count": 6,
   "id": "ce47b201-5e5f-486a-b7e8-ef057d899338",
   "metadata": {},
   "outputs": [],
   "source": [
    "spark = SparkSession.builder.appName('Итоговое_задание').getOrCreate()"
   ]
  },
  {
   "cell_type": "code",
   "execution_count": 44,
   "id": "e8d9ec74-7fb9-4aee-8772-5eb15bab1549",
   "metadata": {},
   "outputs": [],
   "source": [
    "df = spark.read.csv('web_server_logs.csv', header=True)"
   ]
  },
  {
   "cell_type": "code",
   "execution_count": 46,
   "id": "6a5dee1e-a4b5-4c29-a00c-47202c390897",
   "metadata": {},
   "outputs": [
    {
     "name": "stdout",
     "output_type": "stream",
     "text": [
      "+-------------+-------------------+------+--------+-------------+-------------+\n",
      "|           ip|          timestamp|method|     url|response_code|response_size|\n",
      "+-------------+-------------------+------+--------+-------------+-------------+\n",
      "|62.139.73.167|2025-02-04T23:56:12|  POST|category|          404|         8385|\n",
      "+-------------+-------------------+------+--------+-------------+-------------+\n",
      "only showing top 1 row\n",
      "\n"
     ]
    }
   ],
   "source": [
    "df.show(1)"
   ]
  },
  {
   "cell_type": "code",
   "execution_count": 48,
   "id": "2b727ef5-cd50-46d8-9bf4-53e8c967239b",
   "metadata": {},
   "outputs": [
    {
     "name": "stdout",
     "output_type": "stream",
     "text": [
      "root\n",
      " |-- ip: string (nullable = true)\n",
      " |-- timestamp: string (nullable = true)\n",
      " |-- method: string (nullable = true)\n",
      " |-- url: string (nullable = true)\n",
      " |-- response_code: string (nullable = true)\n",
      " |-- response_size: string (nullable = true)\n",
      "\n"
     ]
    }
   ],
   "source": [
    "df.printSchema()"
   ]
  },
  {
   "cell_type": "code",
   "execution_count": 52,
   "id": "ee0db3d3-df3b-4ac4-b447-2729378dfd09",
   "metadata": {},
   "outputs": [],
   "source": [
    "from pyspark.sql.functions import col, to_timestamp\n",
    "df = df.withColumn(\"timestamp\", to_timestamp(col(\"timestamp\"), \"yyyy-MM-dd'T'HH:mm:ss\"))"
   ]
  },
  {
   "cell_type": "code",
   "execution_count": 54,
   "id": "fbdda3e9-01dd-4c9f-95a2-e792f48175ef",
   "metadata": {},
   "outputs": [
    {
     "name": "stdout",
     "output_type": "stream",
     "text": [
      "root\n",
      " |-- ip: string (nullable = true)\n",
      " |-- timestamp: timestamp (nullable = true)\n",
      " |-- method: string (nullable = true)\n",
      " |-- url: string (nullable = true)\n",
      " |-- response_code: string (nullable = true)\n",
      " |-- response_size: string (nullable = true)\n",
      "\n"
     ]
    }
   ],
   "source": [
    "df.printSchema()"
   ]
  },
  {
   "cell_type": "markdown",
   "id": "8232e6fb-5096-4e43-bdb5-f734add2222a",
   "metadata": {},
   "source": [
    "**1. Сгруппируйте данные по IP и посчитайте количество запросов для каждого IP, выводим 10 самых активных IP. Формат вывода, как на скрине ниже.**"
   ]
  },
  {
   "cell_type": "code",
   "execution_count": 66,
   "id": "a5c40c38-468d-4340-95cd-0e639aed5abd",
   "metadata": {},
   "outputs": [
    {
     "name": "stdout",
     "output_type": "stream",
     "text": [
      "+---------------+-----+\n",
      "|             ip|count|\n",
      "+---------------+-----+\n",
      "|  181.98.103.51|    2|\n",
      "|  54.33.128.250|    1|\n",
      "| 14.162.102.216|    1|\n",
      "| 43.159.224.211|    1|\n",
      "| 120.212.152.60|    1|\n",
      "|108.138.189.237|    1|\n",
      "| 120.245.53.106|    1|\n",
      "|  206.61.11.202|    1|\n",
      "|   156.117.46.5|    1|\n",
      "|    39.35.0.189|    1|\n",
      "+---------------+-----+\n",
      "\n"
     ]
    }
   ],
   "source": [
    "from pyspark.sql.functions import count\n",
    "df.groupBy(\"ip\").count().orderBy(col(\"count\").desc()).limit(10).show()"
   ]
  },
  {
   "cell_type": "markdown",
   "id": "ed70536f-279b-44e6-a9c5-81b127149866",
   "metadata": {},
   "source": [
    "**2. Сгруппируйте данные по HTTP-методу и посчитайте количество запросов для каждого метода.**"
   ]
  },
  {
   "cell_type": "code",
   "execution_count": 106,
   "id": "ae8d2d6b-f1a8-46fc-895b-f16fdf494c1f",
   "metadata": {},
   "outputs": [
    {
     "name": "stdout",
     "output_type": "stream",
     "text": [
      "+------+------------+\n",
      "|method|method_count|\n",
      "+------+------------+\n",
      "|  POST|       25106|\n",
      "|DELETE|       24852|\n",
      "|   PUT|       25066|\n",
      "|   GET|       24976|\n",
      "+------+------------+\n",
      "\n"
     ]
    }
   ],
   "source": [
    "df.groupBy(\"method\").count().withColumnRenamed(\"count\", \"method_count\").show()"
   ]
  },
  {
   "cell_type": "markdown",
   "id": "99d5a9b7-cfb7-4132-a77b-d33537540a88",
   "metadata": {},
   "source": [
    "**3. Профильтруйте и посчитайте количество запросов с кодом ответа 404.**"
   ]
  },
  {
   "cell_type": "code",
   "execution_count": 82,
   "id": "15797340-0e04-4a8c-aed9-ff05b4b746f9",
   "metadata": {},
   "outputs": [
    {
     "name": "stdout",
     "output_type": "stream",
     "text": [
      "+-------------+-----+\n",
      "|response_code|count|\n",
      "+-------------+-----+\n",
      "|          404|25250|\n",
      "+-------------+-----+\n",
      "\n"
     ]
    }
   ],
   "source": [
    "df.where(col('response_code') == 404).groupBy('response_code').count().show()"
   ]
  },
  {
   "cell_type": "markdown",
   "id": "6d0ff4cb-ffd6-4787-99cd-bf8fcf47a611",
   "metadata": {},
   "source": [
    "**4. Сгруппируйте данные по дате и просуммируйте размер ответов, сортируйте по дате.**"
   ]
  },
  {
   "cell_type": "code",
   "execution_count": 100,
   "id": "3b13dd79-43c0-458a-a5ed-588b4dfc212b",
   "metadata": {},
   "outputs": [
    {
     "name": "stdout",
     "output_type": "stream",
     "text": [
      "+----------+------------------+\n",
      "|      date|sum(response_size)|\n",
      "+----------+------------------+\n",
      "|2025-01-01|           6277068|\n",
      "|2025-01-02|           6271167|\n",
      "|2025-01-03|           6156048|\n",
      "|2025-01-04|           6413230|\n",
      "|2025-01-05|           5983700|\n",
      "|2025-01-06|           6258091|\n",
      "|2025-01-07|           6140001|\n",
      "|2025-01-08|           6091521|\n",
      "|2025-01-09|           6205761|\n",
      "|2025-01-10|           6295853|\n",
      "|2025-01-11|           6106426|\n",
      "|2025-01-12|           6364797|\n",
      "|2025-01-13|           6138723|\n",
      "|2025-01-14|           6233212|\n",
      "|2025-01-15|           6104700|\n",
      "|2025-01-16|           6085768|\n",
      "|2025-01-17|           5836398|\n",
      "|2025-01-18|           6513908|\n",
      "|2025-01-19|           6012376|\n",
      "|2025-01-20|           6208759|\n",
      "+----------+------------------+\n",
      "only showing top 20 rows\n",
      "\n"
     ]
    }
   ],
   "source": [
    "from pyspark.sql.functions import sum, to_date\n",
    "df = df.withColumn(\"response_size\", col(\"response_size\").cast(\"int\"))\n",
    "df = df.withColumn('date', to_date(col('timestamp')))\n",
    "df.groupBy('date').sum('response_size').orderBy('date').show()"
   ]
  },
  {
   "cell_type": "code",
   "execution_count": null,
   "id": "5018fa90-714d-4b0e-b775-c8a9e80e5f33",
   "metadata": {},
   "outputs": [],
   "source": []
  }
 ],
 "metadata": {
  "kernelspec": {
   "display_name": "Python 3 (ipykernel)",
   "language": "python",
   "name": "python3"
  },
  "language_info": {
   "codemirror_mode": {
    "name": "ipython",
    "version": 3
   },
   "file_extension": ".py",
   "mimetype": "text/x-python",
   "name": "python",
   "nbconvert_exporter": "python",
   "pygments_lexer": "ipython3",
   "version": "3.12.7"
  }
 },
 "nbformat": 4,
 "nbformat_minor": 5
}
